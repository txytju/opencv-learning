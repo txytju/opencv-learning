{
 "cells": [
  {
   "cell_type": "code",
   "execution_count": 2,
   "metadata": {},
   "outputs": [],
   "source": [
    "import cv2\n",
    "import numpy as np\n",
    "from matplotlib import pyplot as plt\n",
    "%matplotlib inline"
   ]
  },
  {
   "cell_type": "code",
   "execution_count": 2,
   "metadata": {},
   "outputs": [],
   "source": [
    "#Create MSER object\n",
    "mser = cv2.MSER_create()\n",
    "\n",
    "#Your image path i-e receipt path\n",
    "img = cv2.imread('images/ticket.png')\n",
    "\n",
    "#Convert to gray scale\n",
    "gray = cv2.cvtColor(img, cv2.COLOR_BGR2GRAY)\n",
    "\n",
    "vis = img.copy()"
   ]
  },
  {
   "cell_type": "code",
   "execution_count": 4,
   "metadata": {},
   "outputs": [],
   "source": [
    "#detect regions in gray scale image\n",
    "regions, _ = mser.detectRegions(gray)"
   ]
  },
  {
   "cell_type": "code",
   "execution_count": null,
   "metadata": {},
   "outputs": [],
   "source": [
    "hulls = [cv2.convexHull(p.reshape(-1, 1, 2)) for p in regions]\n",
    "\n",
    "cv2.polylines(vis, hulls, 1, (0, 255, 0))\n",
    "\n",
    "cv2.imshow('img', vis)\n",
    "\n",
    "cv2.waitKey(0)\n",
    "\n",
    "mask = np.zeros((img.shape[0], img.shape[1], 1), dtype=np.uint8)\n",
    "\n",
    "for contour in hulls:\n",
    "\n",
    "    cv2.drawContours(mask, [contour], -1, (255, 255, 255), -1)\n",
    "\n",
    "#this is used to find only text regions, remaining are ignored\n",
    "text_only = cv2.bitwise_and(img, img, mask=mask)\n",
    "\n",
    "cv2.imshow(\"text only\", text_only)\n",
    "\n",
    "# cv2.waitKey(0)"
   ]
  },
  {
   "cell_type": "code",
   "execution_count": 3,
   "metadata": {},
   "outputs": [
    {
     "name": "stdout",
     "output_type": "stream",
     "text": [
      "Help on built-in function drawContours:\n",
      "\n",
      "drawContours(...)\n",
      "    drawContours(image, contours, contourIdx, color[, thickness[, lineType[, hierarchy[, maxLevel[, offset]]]]]) -> image\n",
      "    .   @brief Draws contours outlines or filled contours.\n",
      "    .   \n",
      "    .   The function draws contour outlines in the image if \\f$\\texttt{thickness} \\ge 0\\f$ or fills the area\n",
      "    .   bounded by the contours if \\f$\\texttt{thickness}<0\\f$ . The example below shows how to retrieve\n",
      "    .   connected components from the binary image and label them: :\n",
      "    .   @code\n",
      "    .   #include \"opencv2/imgproc.hpp\"\n",
      "    .   #include \"opencv2/highgui.hpp\"\n",
      "    .   \n",
      "    .   using namespace cv;\n",
      "    .   using namespace std;\n",
      "    .   \n",
      "    .   int main( int argc, char** argv )\n",
      "    .   {\n",
      "    .   Mat src;\n",
      "    .   // the first command-line parameter must be a filename of the binary\n",
      "    .   // (black-n-white) image\n",
      "    .   if( argc != 2 || !(src=imread(argv[1], 0)).data)\n",
      "    .   return -1;\n",
      "    .   \n",
      "    .   Mat dst = Mat::zeros(src.rows, src.cols, CV_8UC3);\n",
      "    .   \n",
      "    .   src = src > 1;\n",
      "    .   namedWindow( \"Source\", 1 );\n",
      "    .   imshow( \"Source\", src );\n",
      "    .   \n",
      "    .   vector<vector<Point> > contours;\n",
      "    .   vector<Vec4i> hierarchy;\n",
      "    .   \n",
      "    .   findContours( src, contours, hierarchy,\n",
      "    .   RETR_CCOMP, CHAIN_APPROX_SIMPLE );\n",
      "    .   \n",
      "    .   // iterate through all the top-level contours,\n",
      "    .   // draw each connected component with its own random color\n",
      "    .   int idx = 0;\n",
      "    .   for( ; idx >= 0; idx = hierarchy[idx][0] )\n",
      "    .   {\n",
      "    .   Scalar color( rand()&255, rand()&255, rand()&255 );\n",
      "    .   drawContours( dst, contours, idx, color, FILLED, 8, hierarchy );\n",
      "    .   }\n",
      "    .   \n",
      "    .   namedWindow( \"Components\", 1 );\n",
      "    .   imshow( \"Components\", dst );\n",
      "    .   waitKey(0);\n",
      "    .   }\n",
      "    .   @endcode\n",
      "    .   \n",
      "    .   @param image Destination image.\n",
      "    .   @param contours All the input contours. Each contour is stored as a point vector.\n",
      "    .   @param contourIdx Parameter indicating a contour to draw. If it is negative, all the contours are drawn.\n",
      "    .   @param color Color of the contours.\n",
      "    .   @param thickness Thickness of lines the contours are drawn with. If it is negative (for example,\n",
      "    .   thickness=CV_FILLED ), the contour interiors are drawn.\n",
      "    .   @param lineType Line connectivity. See cv::LineTypes.\n",
      "    .   @param hierarchy Optional information about hierarchy. It is only needed if you want to draw only\n",
      "    .   some of the contours (see maxLevel ).\n",
      "    .   @param maxLevel Maximal level for drawn contours. If it is 0, only the specified contour is drawn.\n",
      "    .   If it is 1, the function draws the contour(s) and all the nested contours. If it is 2, the function\n",
      "    .   draws the contours, all the nested contours, all the nested-to-nested contours, and so on. This\n",
      "    .   parameter is only taken into account when there is hierarchy available.\n",
      "    .   @param offset Optional contour shift parameter. Shift all the drawn contours by the specified\n",
      "    .   \\f$\\texttt{offset}=(dx,dy)\\f$ .\n",
      "    .   @note When thickness=CV_FILLED, the function is designed to handle connected components with holes correctly\n",
      "    .   even when no hierarchy date is provided. This is done by analyzing all the outlines together\n",
      "    .   using even-odd rule. This may give incorrect results if you have a joint collection of separately retrieved\n",
      "    .   contours. In order to solve this problem, you need to call drawContours separately for each sub-group\n",
      "    .   of contours, or iterate over the collection using contourIdx parameter.\n",
      "\n"
     ]
    }
   ],
   "source": [
    "help(cv2.drawContours)"
   ]
  },
  {
   "cell_type": "code",
   "execution_count": null,
   "metadata": {},
   "outputs": [],
   "source": []
  }
 ],
 "metadata": {
  "kernelspec": {
   "display_name": "Python 3",
   "language": "python",
   "name": "python3"
  },
  "language_info": {
   "codemirror_mode": {
    "name": "ipython",
    "version": 3
   },
   "file_extension": ".py",
   "mimetype": "text/x-python",
   "name": "python",
   "nbconvert_exporter": "python",
   "pygments_lexer": "ipython3",
   "version": "3.5.2"
  }
 },
 "nbformat": 4,
 "nbformat_minor": 2
}
